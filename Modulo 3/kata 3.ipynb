{
 "cells": [
  {
   "cell_type": "markdown",
   "metadata": {},
   "source": [
    "# Kata 3\n",
    "logica booleana"
   ]
  },
  {
   "cell_type": "markdown",
   "metadata": {},
   "source": [
    "Añadir el código necesario para crear una variable que guarde la velocidad del asteroide.\n",
    "#\n",
    "Escribe una expresión de prueba para calcular si necesita una advertencia.\n",
    "#\n",
    "Agregue las instrucciones que se ejecutarán si la expresión de prueba es true o false."
   ]
  },
  {
   "cell_type": "code",
   "execution_count": 3,
   "metadata": {},
   "outputs": [],
   "source": [
    "# ejercicio 1\n",
    "asteroid = 49\n",
    "\n",
    "if asteroid > 25:\n",
    "    print(\"Adventerncia, Un asteroide se acerca a la tierra rapidamente\")\n"
   ]
  },
  {
   "cell_type": "markdown",
   "metadata": {},
   "source": [
    "Agrega el código para crear una variable para un asteroide que viaja a 19 km/s\n",
    "#\n",
    "Escribe varias expresiones de prueba para determinar si puedes ver el rayo de luz desde la tierra\n",
    "#\n",
    "Agrega las instrucciones que se ejecutarán si las expresiones de prueba son True o False"
   ]
  },
  {
   "cell_type": "code",
   "execution_count": 8,
   "metadata": {},
   "outputs": [
    {
     "name": "stdout",
     "output_type": "stream",
     "text": [
      "Todo se ve bien arriba, pero cuidado en cualquier momento podria caer un asteroide\n"
     ]
    }
   ],
   "source": [
    "#ejercicio 2\n",
    "\n",
    "asteroid = 5\n",
    "if asteroid < 17:\n",
    "    print(\"Todo se ve bien arriba, pero cuidado en cualquier momento podria caer un asteroide\")\n",
    "elif asteroid == 19:\n",
    "    print(\"Cuidado, mira arriba... !Se ve una luz, talvez sea un asteroide\")\n",
    "else:\n",
    "    print(\"Alerta, se aproxima un asteroide a la tierra a una velocidad de +- 19 km/h!!!!\")"
   ]
  },
  {
   "cell_type": "markdown",
   "metadata": {},
   "source": [
    "Agrega el código para crear nuevas variables para la velocidad y el tamaño del asteroide\n",
    "# \n",
    "Para probar el código, prueba con varias velocidades y tamaños\n",
    "# \n",
    "Escribe varias expresiones de prueba o combinaciones de expresiones de prueba para determinar qué mensaje se debe enviar a Tierra."
   ]
  },
  {
   "cell_type": "code",
   "execution_count": 15,
   "metadata": {},
   "outputs": [
    {
     "name": "stdout",
     "output_type": "stream",
     "text": [
      "Todo OK \n"
     ]
    }
   ],
   "source": [
    "# ejercicio 3\n",
    "\n",
    "velocidad = 25\n",
    "tamano = 24\n",
    "if velocidad > 25 and tamano > 26:\n",
    "    print(\"Cuidado un asteroide se acerca a la Tierra \")\n",
    "elif velocidad >= 20 and tamano >= 25:\n",
    "    print(\"Heeyy, mira, se ve algo en el cielo\")\n",
    "elif tamano < 25 :\n",
    "    print(\"Todo OK \")\n"
   ]
  }
 ],
 "metadata": {
  "interpreter": {
   "hash": "916dbcbb3f70747c44a77c7bcd40155683ae19c65e1c03b4aa3499c5328201f1"
  },
  "kernelspec": {
   "display_name": "Python 3.9.5 64-bit",
   "language": "python",
   "name": "python3"
  },
  "language_info": {
   "codemirror_mode": {
    "name": "ipython",
    "version": 3
   },
   "file_extension": ".py",
   "mimetype": "text/x-python",
   "name": "python",
   "nbconvert_exporter": "python",
   "pygments_lexer": "ipython3",
   "version": "3.9.5"
  },
  "orig_nbformat": 4
 },
 "nbformat": 4,
 "nbformat_minor": 2
}
