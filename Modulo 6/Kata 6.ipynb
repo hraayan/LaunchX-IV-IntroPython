{
 "cells": [
  {
   "cell_type": "markdown",
   "metadata": {},
   "source": [
    "# Kata 6 Listas en Python\n",
    "\n",
    "Ejercicio 1 Crear y usar listas"
   ]
  },
  {
   "cell_type": "code",
   "execution_count": 9,
   "metadata": {},
   "outputs": [
    {
     "name": "stdout",
     "output_type": "stream",
     "text": [
      "El numero de planetas existentes es:  8\n",
      "['Mercurio', 'Venus', 'Tierra', 'Marte', 'Jupiter', 'Saturno', 'Urano', 'Neptuno', 'Pluton']\n",
      "Pluton  es el ultimo planeta de la lista, y ahora hay ->  9  planetas\n"
     ]
    }
   ],
   "source": [
    "planetas = ['Mercurio', 'Venus', 'Tierra', 'Marte', 'Jupiter', 'Saturno', 'Urano', 'Neptuno']\n",
    "print(\"El numero de planetas existentes es: \", len(planetas))\n",
    "planetas.append('Pluton')\n",
    "print(planetas)\n",
    "print(planetas[-1], \" es el ultimo planeta de la lista, y ahora hay -> \", len(planetas), \" planetas\")"
   ]
  },
  {
   "cell_type": "markdown",
   "metadata": {},
   "source": [
    "Ejercicio 2 Trabajando con datos de una lista"
   ]
  },
  {
   "cell_type": "code",
   "execution_count": 7,
   "metadata": {},
   "outputs": [
    {
     "name": "stdout",
     "output_type": "stream",
     "text": [
      "Marte  esta en el indice:  3\n",
      "Los planetas mas cercanos al sol que  Marte  son:  ['Mercurio', 'Venus', 'Tierra']\n",
      "Los planetas mas alejados al sol que  Marte  son:  ['Jupiter', 'Saturno', 'Urano', 'Neptuno']\n"
     ]
    }
   ],
   "source": [
    "planetas = ['Mercurio', 'Venus', 'Tierra', 'Marte', 'Jupiter', 'Saturno', 'Urano', 'Neptuno']\n",
    "planetaR = input(\"Ingresa el planeta  que quieres, Ingresa la primer letra Mayuscula!!: \")\n",
    "planet_index = int(planetas.index(planetaR))\n",
    "print(planetaR, \" esta en el indice: \", planet_index)\n",
    "mas_sercanos = planetas[0:planet_index]\n",
    "print(\"Los planetas mas cercanos al sol que \", planetaR, \" son: \", mas_sercanos)\n",
    "mas_lejanos = planetas[planet_index+1:]\n",
    "print(\"Los planetas mas alejados al sol que \", planetaR, \" son: \", mas_lejanos)\n"
   ]
  }
 ],
 "metadata": {
  "interpreter": {
   "hash": "916dbcbb3f70747c44a77c7bcd40155683ae19c65e1c03b4aa3499c5328201f1"
  },
  "kernelspec": {
   "display_name": "Python 3.9.5 64-bit",
   "language": "python",
   "name": "python3"
  },
  "language_info": {
   "codemirror_mode": {
    "name": "ipython",
    "version": 3
   },
   "file_extension": ".py",
   "mimetype": "text/x-python",
   "name": "python",
   "nbconvert_exporter": "python",
   "pygments_lexer": "ipython3",
   "version": "3.9.5"
  },
  "orig_nbformat": 4
 },
 "nbformat": 4,
 "nbformat_minor": 2
}
