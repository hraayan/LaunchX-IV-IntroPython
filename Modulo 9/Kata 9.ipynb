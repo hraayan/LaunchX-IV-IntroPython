{
 "cells": [
  {
   "cell_type": "markdown",
   "metadata": {},
   "source": [
    "# Kata 9 Funciones\n",
    "\n",
    "Ejercicio 1 Uso de funciones"
   ]
  },
  {
   "cell_type": "code",
   "execution_count": 6,
   "metadata": {},
   "outputs": [
    {
     "name": "stdout",
     "output_type": "stream",
     "text": [
      "Nivel de Tanque 1: 100, Tanque 2: 500, Tanque 3: 400\n",
      "Nivel Promedio: 333.3333333333333\n",
      "--------------------------------------------------\n",
      "Nivel de Tanque 1: 100, Tanque 2: 500, Tanque 3: 400\n",
      "Nivel Promedio: 333.3333333333333\n"
     ]
    }
   ],
   "source": [
    "def combustible(tanque1, tanque2, tanque3):\n",
    "    prom = (tanque1 + tanque2 + tanque3) / 3\n",
    "    print(f'Nivel de Tanque 1: {tanque1}, Tanque 2: {tanque2}, Tanque 3: {tanque3}\\nNivel Promedio: {prom}')\n",
    "    print(\"-\"*50)\n",
    "    print(f'Nivel de Tanque 1: {tanque1}, Tanque 2: {tanque2}, Tanque 3: {tanque3}\\nNivel Promedio: {promedio(tanque1, tanque2, tanque3)}')\n",
    "    \n",
    "\n",
    "def promedio(*args):\n",
    "    prom = sum(args) / len(args)\n",
    "    #print(\"Promedio en fun. prom: \",prom)\n",
    "    return prom\n",
    "    \n",
    "combustible(100,500,400)"
   ]
  },
  {
   "cell_type": "markdown",
   "metadata": {},
   "source": [
    "Ejercicio 2 trabajo con argumentos de palabras clave"
   ]
  },
  {
   "cell_type": "code",
   "execution_count": 29,
   "metadata": {},
   "outputs": [
    {
     "name": "stdout",
     "output_type": "stream",
     "text": [
      "\n",
      "    Destino: Moon\n",
      "    Hora de Prelanzamiento: 14\n",
      "    Tiempo Total: 65 minutos\n",
      "    Combustible disponible: 500000\n",
      "\n",
      "    Destino: Moon\n",
      "    \n",
      "    Tiempo Total: 1945 minutos\n",
      "    Combustible disponible: 571000\n",
      "||||||||||||||||||||||||||||||||||||||||\n",
      "\n",
      "    Destino: Mars\n",
      "    \n",
      "    Tiempo Total: 3695 minutos\n",
      "    Combustible disponible total: 1290000\n",
      "    Al tanque: tanque1 le quedan: 840000 litros\tAl tanque: tanque2 le quedan: 450000 litros\t\n"
     ]
    }
   ],
   "source": [
    "def reporte_mision(prelanzamiento, tiempo_vuelo, destino, tanque_externo, tanque_interno):\n",
    "    return f\"\"\"\n",
    "    Destino: {destino}\n",
    "    Hora de Prelanzamiento: {prelanzamiento}\n",
    "    Tiempo Total: {prelanzamiento + tiempo_vuelo} minutos\n",
    "    Combustible disponible: {abs(tanque_externo + tanque_interno)}\"\"\"\n",
    "\n",
    "print(reporte_mision(14, 51, \"Moon\", 200000, 300000))\n",
    "\n",
    "\n",
    "#Nueva funcion\n",
    "\n",
    "def new_mission(destino, *minutos, **tanques):\n",
    "    return f\"\"\"\n",
    "    Destino: {destino}\n",
    "    \n",
    "    Tiempo Total: { sum(minutos)} minutos\n",
    "    Combustible disponible: {abs(sum(tanques.values()))}\"\"\"\n",
    "\n",
    "print(new_mission(\"Moon\", 100, 45, 1800, tanque1=421000, tanque2=150000))\n",
    "\n",
    "\n",
    "#Nueva funcion con nombres de tanques\n",
    "\n",
    "print(\"||\"*20)\n",
    "def new_mission_tankNames(destino, *minutos, **tanques):\n",
    "    report = f\"\"\"\n",
    "    Destino: {destino}\n",
    "    \n",
    "    Tiempo Total: { sum(minutos)} minutos\n",
    "    Combustible disponible total: {sum(tanques.values())}\n",
    "    \"\"\"\n",
    "\n",
    "    for tanque, restante in tanques.items():\n",
    "        report += f\"Al tanque: {tanque} le quedan: {restante} litros\\t\"\n",
    "\n",
    "    return report\n",
    "\n",
    "print(new_mission_tankNames(\"Mars\", 5, 3600, 90, tanque1=840000, tanque2=450000))"
   ]
  }
 ],
 "metadata": {
  "interpreter": {
   "hash": "916dbcbb3f70747c44a77c7bcd40155683ae19c65e1c03b4aa3499c5328201f1"
  },
  "kernelspec": {
   "display_name": "Python 3.9.5 64-bit",
   "language": "python",
   "name": "python3"
  },
  "language_info": {
   "codemirror_mode": {
    "name": "ipython",
    "version": 3
   },
   "file_extension": ".py",
   "mimetype": "text/x-python",
   "name": "python",
   "nbconvert_exporter": "python",
   "pygments_lexer": "ipython3",
   "version": "3.9.5"
  },
  "orig_nbformat": 4
 },
 "nbformat": 4,
 "nbformat_minor": 2
}
