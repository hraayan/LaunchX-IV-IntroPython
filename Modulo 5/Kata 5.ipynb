{
 "cells": [
  {
   "cell_type": "markdown",
   "metadata": {},
   "source": [
    "# Kata 5 Operadores Matematicos\n",
    "\n",
    "Ejercicio 1 Operadores aritmeticos"
   ]
  },
  {
   "cell_type": "code",
   "execution_count": 5,
   "metadata": {},
   "outputs": [
    {
     "name": "stdout",
     "output_type": "stream",
     "text": [
      "La distancia de la Tierra a Jupiter es de:  390577534  millas y  628949330  Kilometros\n"
     ]
    }
   ],
   "source": [
    "from math import ceil\n",
    "tierra = 149597870\n",
    "jupiter = 778547200\n",
    "distancia = jupiter - tierra\n",
    "print(\"La distancia de la Tierra a Jupiter es de: \", ceil(distancia * 0.621), \" millas y \", distancia, \" Kilometros\")"
   ]
  },
  {
   "cell_type": "markdown",
   "metadata": {},
   "source": [
    "Ejercicio 2 Convertir cadenas en numeros con absolutos"
   ]
  },
  {
   "cell_type": "code",
   "execution_count": 6,
   "metadata": {},
   "outputs": [
    {
     "name": "stdout",
     "output_type": "stream",
     "text": [
      "La distancia calculada es:  170000000 Km y  105570000  en Millas\n"
     ]
    }
   ],
   "source": [
    "# Entrada desde terminal\n",
    "\n",
    "distance_1 = int(input(\"Ingresa la distancia al sol dle primer planeta en Km: \"))\n",
    "distance_3 = int(input(\"Ingresa la distancia al sol del segundo planeta en Km: \"))\n",
    "\n",
    "res = abs(distance_3 - distance_1)\n",
    "\n",
    "print(\"La distancia calculada es: \", res , \"Km y \", ceil(res * 0.621), \" en Millas\")"
   ]
  }
 ],
 "metadata": {
  "interpreter": {
   "hash": "916dbcbb3f70747c44a77c7bcd40155683ae19c65e1c03b4aa3499c5328201f1"
  },
  "kernelspec": {
   "display_name": "Python 3.9.5 64-bit",
   "language": "python",
   "name": "python3"
  },
  "language_info": {
   "codemirror_mode": {
    "name": "ipython",
    "version": 3
   },
   "file_extension": ".py",
   "mimetype": "text/x-python",
   "name": "python",
   "nbconvert_exporter": "python",
   "pygments_lexer": "ipython3",
   "version": "3.9.5"
  },
  "orig_nbformat": 4
 },
 "nbformat": 4,
 "nbformat_minor": 2
}
