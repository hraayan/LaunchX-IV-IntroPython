{
 "cells": [
  {
   "cell_type": "markdown",
   "metadata": {},
   "source": [
    "# Kata 4 Cadenas\n",
    "\n",
    "Ejercicio 1 transformar cadenas"
   ]
  },
  {
   "cell_type": "code",
   "execution_count": 9,
   "metadata": {},
   "outputs": [
    {
     "name": "stdout",
     "output_type": "stream",
     "text": [
      "On average, the Moon moves 4cm away from the Earth every year\n",
      "The highest daylight temperature of the Moon is 127 Celcius.\n"
     ]
    }
   ],
   "source": [
    "text = \"\"\"Interesting facts about the Moon. The Moon is Earth's only satellite. There are several interesting facts about the Moon and how it affects life here on Earth. On average, the Moon moves 4cm away from the Earth every year. This yearly drift is not significant enough to cause immediate effects on Earth. The highest daylight temperature of the Moon is 127 C.\"\"\"\n",
    "\n",
    "split_text = text.split('. ')\n",
    "#print (split_text)\n",
    "claves = [\"average\" , \"temperature\", \"distance\"]\n",
    "\n",
    "for i in split_text: # recorremos la cadena separada\n",
    "    for palabra in claves:  # recorremos arreglo de claves\n",
    "        if palabra in i:  # buscamos si la palabra esta en split\n",
    "            \n",
    "            print(i.replace(' C', ' Celcius'))\n",
    "        \n",
    "\n"
   ]
  },
  {
   "cell_type": "markdown",
   "metadata": {},
   "source": [
    "Ejercicio 2 Formateo de cadenas"
   ]
  },
  {
   "cell_type": "code",
   "execution_count": 38,
   "metadata": {},
   "outputs": [
    {
     "name": "stdout",
     "output_type": "stream",
     "text": [
      "Datos De La Gravedad Sobre Moon\n",
      "----------------------------------------\n",
      "Planeta: Moon\n",
      "Gravedad: 1.6199999999999999 m/s2 \n",
      "Nombre: Earth\n",
      "\n",
      "////////////////////////////////////////////////\n",
      "\n",
      "Datos de la gravedad sobre: marte\n",
      "---------------------------------------------\n",
      "Planeta: marte\n",
      "Gravedad\" 1.4300000000000002 m/s2\n",
      "Nombre: Ganimedes\n"
     ]
    }
   ],
   "source": [
    "name = \"Moon\"\n",
    "gravity = 0.00162 # in kms\n",
    "planet = \"Earth\"\n",
    "\n",
    "## -------------\n",
    "titulo = f'datos de la gravedad sobre {name}'\n",
    "\n",
    "#facts = \"\"\"Planeta = '%s' \\ngravedad = %s  \\nnombre = '%s'\"\"\" % (name.title(), gravity * 1000 , planet)\n",
    "#print(facts)\n",
    "\n",
    "facts = f\"\"\"{'--'*20}\\nPlaneta: {name}\\nGravedad: {gravity * 1000} m/s2 \\nNombre: {planet}\"\"\" \n",
    "plantilla = f\"\"\"{titulo.title()}\\n{facts}\"\"\"\n",
    "print(plantilla)\n",
    "\n",
    "print(\"\\n////////////////////////////////////////////////\\n\")\n",
    "\n",
    "plantilla_n = \"\"\"Datos de la gravedad sobre: {name}\\n---------------------------------------------\n",
    "Planeta: {name}\\nGravedad\" {gravity} m/s2\\nNombre: {planet}\"\"\"\n",
    "            \n",
    "print(plantilla_n.format(name = 'marte', planet = 'Ganimedes', gravity = 0.00143 * 1000))"
   ]
  }
 ],
 "metadata": {
  "interpreter": {
   "hash": "916dbcbb3f70747c44a77c7bcd40155683ae19c65e1c03b4aa3499c5328201f1"
  },
  "kernelspec": {
   "display_name": "Python 3.9.5 64-bit",
   "language": "python",
   "name": "python3"
  },
  "language_info": {
   "codemirror_mode": {
    "name": "ipython",
    "version": 3
   },
   "file_extension": ".py",
   "mimetype": "text/x-python",
   "name": "python",
   "nbconvert_exporter": "python",
   "pygments_lexer": "ipython3",
   "version": "3.9.5"
  },
  "orig_nbformat": 4
 },
 "nbformat": 4,
 "nbformat_minor": 2
}
