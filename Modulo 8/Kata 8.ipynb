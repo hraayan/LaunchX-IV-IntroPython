{
 "cells": [
  {
   "cell_type": "markdown",
   "metadata": {},
   "source": [
    "# Kata 8 Datos con diccionarios\n",
    "Ejercicio 1 creacion de diccionarios de python"
   ]
  },
  {
   "cell_type": "code",
   "execution_count": 2,
   "metadata": {},
   "outputs": [
    {
     "name": "stdout",
     "output_type": "stream",
     "text": [
      "Mars  tiene  2  lunas\n",
      "Mars tiene una circunferencia polar de: 6752\n"
     ]
    }
   ],
   "source": [
    "planet = {\n",
    "    'name': \"Mars\",\n",
    "    'moons': 2\n",
    "}\n",
    "\n",
    "print(planet['name'], \" tiene \", planet['moons'], \" lunas\")\n",
    "\n",
    "planet['circunferencia'] = {\n",
    "    'polar': 6752,\n",
    "    'equatorial': 6792\n",
    "}\n",
    "\n",
    "print(f'{planet[\"name\"]} tiene una circunferencia polar de: {planet[\"circunferencia\"][\"polar\"]}')\n"
   ]
  }
 ],
 "metadata": {
  "interpreter": {
   "hash": "916dbcbb3f70747c44a77c7bcd40155683ae19c65e1c03b4aa3499c5328201f1"
  },
  "kernelspec": {
   "display_name": "Python 3.9.5 64-bit",
   "language": "python",
   "name": "python3"
  },
  "language_info": {
   "codemirror_mode": {
    "name": "ipython",
    "version": 3
   },
   "file_extension": ".py",
   "mimetype": "text/x-python",
   "name": "python",
   "nbconvert_exporter": "python",
   "pygments_lexer": "ipython3",
   "version": "3.9.5"
  },
  "orig_nbformat": 4
 },
 "nbformat": 4,
 "nbformat_minor": 2
}
